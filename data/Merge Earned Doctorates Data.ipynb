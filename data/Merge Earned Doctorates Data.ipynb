{
 "cells": [
  {
   "cell_type": "markdown",
   "metadata": {},
   "source": [
    "# Merge NSF Survey of Earned Doctorates Spreadsheets\n",
    "J. Nathan Matias\n",
    "\n",
    "Last updated Feb 5, 2022\n",
    "\n",
    "This dataset includes citizens and permanent residents\n",
    "\n",
    "* Asian Includes Native Hawaiians or Other Pacific Islanders through 2000, but excludes them since 2001.\n",
    "* Before 2001, \"Other race or race not reported\" included respondents who selected more than one race. Since 2001, this category has included Native Hawaiians or Other Pacific Islanders, who previously had been included in the category Asian.\n",
    "* Life Sciences Includes agricultural sciences and natural resources; biological and biomedical sciences; and health sciences.\n",
    "* Field (Other) Includes other non-science and engineering fields not shown separately\n",
    "* All groups other than \"Hispanic or Latino\" are classified as \"Not Hispanic or Latino\""
   ]
  },
  {
   "cell_type": "code",
   "execution_count": 293,
   "metadata": {},
   "outputs": [],
   "source": [
    "from openpyxl import load_workbook\n",
    "import pandas as pd\n",
    "from collections import defaultdict, Counter\n",
    "import datetime\n",
    "import csv\n",
    "import matplotlib.pyplot as plt"
   ]
  },
  {
   "cell_type": "code",
   "execution_count": 294,
   "metadata": {},
   "outputs": [],
   "source": [
    "data_path = \"/Users/nathan/Box/Projects/\"\n",
    "nsed_path = \"2021-NSF-Survey-Earned-Doctorates/\"\n",
    "nces_path = \"2021-NCES-Faculty-Data/\"\n",
    "nces_generation_date =\"20220109\"\n",
    "\n",
    "\n",
    "\n",
    "year_filenames = {\n",
    "    \"2016\": \"tab23-2016.xlsx\",\n",
    "    \"2017\": \"sed17-sr-tab023-2017.xlsx\",\n",
    "    \"2018\": \"nsf20301-tab023-2018.xlsx\",\n",
    "    \"2019\": \"nsf21308-tab023-2019.xlsx\",\n",
    "    \"2020\": \"nsf22300-tab023-2020.xlsx\"  \n",
    "}\n",
    "\n",
    "fields = [\"All fields\",\n",
    "          \"Life sciencesc\", \n",
    "          \"Physical sciences and earth sciences\", \n",
    "          \"Mathematics and computer sciences\",\n",
    "          \"Psychology and social sciences\",\n",
    "          \"Engineering\",\n",
    "          \"Education\",\n",
    "          \"Humanities and arts\",\n",
    "          \"Otherd\"]"
   ]
  },
  {
   "cell_type": "markdown",
   "metadata": {},
   "source": [
    "### Utility method for generating year rows from the NSF Earned Doctorates Workbook"
   ]
  },
  {
   "cell_type": "code",
   "execution_count": 295,
   "metadata": {},
   "outputs": [],
   "source": [
    "def generate_year_rows(wb):\n",
    "\n",
    "    counter = 0\n",
    "\n",
    "    # dict with the index as key\n",
    "    # and the column name as the value\n",
    "    colnames = {}\n",
    "\n",
    "    ## data structure for storing records:\n",
    "    ## one row per field + group + year\n",
    "    ## field, group, year, count\n",
    "    records = []\n",
    "\n",
    "    field = None\n",
    "    group = None\n",
    "\n",
    "\n",
    "    for row in wb.worksheets[0].values:\n",
    "        # the first three rows are labels\n",
    "        if(counter<3): \n",
    "            counter += 1\n",
    "            continue\n",
    "\n",
    "        ## the end of the sequence\n",
    "        if(row[0] is None):\n",
    "            break\n",
    "\n",
    "        ## header row\n",
    "        if(counter==3):\n",
    "            i = 0\n",
    "            for colname in row:\n",
    "                if colname is None:\n",
    "                    continue\n",
    "                colnames[i] = colname\n",
    "                i += 1\n",
    "            counter += 1\n",
    "            continue\n",
    "            \n",
    "        ## skip rows labeled \"Not Hispanic or Latino\"\n",
    "        if row[0].strip() == \"Not Hispanic or Latino\":\n",
    "            counter += 1\n",
    "            continue\n",
    "\n",
    "        if row[0].strip() in fields:\n",
    "            group = \"Total\"\n",
    "            field = row[0].strip()\n",
    "        else:\n",
    "            group = row[0].strip()\n",
    "\n",
    "        ## add record\n",
    "        for i in range(1, len(colnames)):\n",
    "            year = colnames[i]\n",
    "            records.append({\n",
    "                \"field\": field,\n",
    "                \"group\": group,\n",
    "                \"year\" : int(year),\n",
    "                \"count\": row[i]\n",
    "            })\n",
    "\n",
    "        counter += 1\n",
    "    return records"
   ]
  },
  {
   "cell_type": "code",
   "execution_count": 296,
   "metadata": {},
   "outputs": [
    {
     "name": "stdout",
     "output_type": "stream",
     "text": [
      "tab23-2016.xlsx\n",
      "sed17-sr-tab023-2017.xlsx\n",
      "nsf20301-tab023-2018.xlsx\n"
     ]
    },
    {
     "name": "stderr",
     "output_type": "stream",
     "text": [
      "/usr/local/lib/python3.9/site-packages/openpyxl/styles/stylesheet.py:226: UserWarning: Workbook contains no default style, apply openpyxl's default\n",
      "  warn(\"Workbook contains no default style, apply openpyxl's default\")\n"
     ]
    },
    {
     "name": "stdout",
     "output_type": "stream",
     "text": [
      "nsf21308-tab023-2019.xlsx\n",
      "nsf22300-tab023-2020.xlsx\n"
     ]
    }
   ],
   "source": [
    "all_records = []\n",
    "\n",
    "for year_filename in year_filenames.values():\n",
    "    print(year_filename)\n",
    "    wb = load_workbook(data_path + nsed_path + year_filename)\n",
    "    all_records += generate_year_rows(wb)"
   ]
  },
  {
   "cell_type": "markdown",
   "metadata": {},
   "source": [
    "# Validate Records\n",
    "* Field-level records should add up to the \"All Fields\" count for each group (done)\n",
    "* Totals should add up for each group"
   ]
  },
  {
   "cell_type": "code",
   "execution_count": 297,
   "metadata": {},
   "outputs": [],
   "source": [
    "all_groups = list(set([x['group'] for x in all_records]))\n",
    "all_fields = list(set([x['field'] for x in all_records]))\n",
    "all_years = list(set([x['year'] for x in all_records]))\n",
    "#all_fields\n",
    "#all_records[0]\n",
    "\n",
    "for year in all_years:\n",
    "#    print(year)\n",
    "    for group in all_groups:\n",
    "        all_fields_total = [x for x in all_records \n",
    "                            if x['group'] == group\n",
    "                            and x['field'] == \"All fields\"\n",
    "                            and x['year'] == year][0]['count']\n",
    "        if(all_fields_total==\"na\"):\n",
    "            all_fields_total = 0\n",
    "        \n",
    "        field_record_total = 0\n",
    "        for field_record in [x for x in all_records if \n",
    "                          x['field']!=\"All fields\"\n",
    "                          and x['group'] == group\n",
    "                          and x['year'] == year and x['count']!='na']:\n",
    "            field_record_total += field_record['count']\n",
    "        \n",
    "        if(field_record_total!=all_fields_total):\n",
    "            print(\"{0} {1}: {2} != {3}\".format(group, year, all_fields_total, field_record_total))\n",
    "        assert(field_record_total == all_fields_total)"
   ]
  },
  {
   "cell_type": "code",
   "execution_count": 298,
   "metadata": {},
   "outputs": [],
   "source": [
    "# [x for x in all_records if x['year']==2000 and x['group']==\"Hispanic or Latino\" and x['field']==\"Mathematics and computer sciences\"]\n",
    "# [x for x in all_records if x['year']==2000 and x['group']==\"Hispanic or Latino\"]"
   ]
  },
  {
   "cell_type": "markdown",
   "metadata": {},
   "source": [
    "# Write Output to file"
   ]
  },
  {
   "cell_type": "code",
   "execution_count": 299,
   "metadata": {},
   "outputs": [],
   "source": [
    "min_year = str(min([x['year'] for x in all_records]))\n",
    "max_year = str(max([x['year'] for x in all_records]))\n",
    "timestamp_str = datetime.datetime.now().strftime(\"%Y%m%d\")\n",
    "pd.DataFrame(all_records).to_csv(data_path + nsed_path + \"nsf_earned_doctorate_race_ethnicity_years_\" +\n",
    "                                 min_year + \"-\" + max_year + \"_\" + timestamp_str + \".csv\", index=False)"
   ]
  },
  {
   "cell_type": "markdown",
   "metadata": {},
   "source": [
    "# Generate the Difference Between Hiring Rates and PhD Conferral Rates\n",
    "Simple formula:\n",
    "\n",
    "Notes:\n",
    "* Assuming an average time to tenure of 7 years, we estimate the number of faculty hired in the previous year to be this year's number of un-tenured TT faculty ÷ 7\n",
    "  *  Note that since URM faculty often move between institutions more often, this number might be smaller yet, since this model assumes 7 years to tenure on average. Time to tenure is also longer for women on average.\n",
    "\n",
    "Caveats:\n",
    "* Some PhDs go into non-TT positions and positions in industry, which we do not consider here. This analysis does not consider the reasons why people go into other kinds of jobs—it just documents the limitations of the pipeline analogy when the real issue is the capacity of institutions to attract qualified candidates and their unwillingness to hire them."
   ]
  },
  {
   "cell_type": "code",
   "execution_count": 300,
   "metadata": {},
   "outputs": [],
   "source": [
    "years_to_tenure = 7\n",
    "years_after_phd = 5\n",
    "\n",
    "\n",
    "nces_rows = []\n",
    "with open (data_path + nces_path + nces_generation_date +  \"_year_summary_table.csv\") as f:\n",
    "    for row in DictReader(f):\n",
    "        nces_rows.append(row)\n",
    "\n",
    "nces_min_year = min([int(x['year']) for x in nces_rows])"
   ]
  },
  {
   "cell_type": "code",
   "execution_count": 301,
   "metadata": {},
   "outputs": [],
   "source": [
    "## create un_tenured_black_latino_american_indian_alaska_native_hawaiian_pacific_multiracial_sum\n",
    "\n",
    "for row in nces_rows:\n",
    "    row['un_tenured_black_latino_american_indian_alaska_native_hawaiian_pacific_multiracial_sum'] = \\\n",
    "    int(row['un_tenured_American_Indian_or_Alaska_Native_total_sum']) + \\\n",
    "    int(row['un_tenured_Black_or_African_American_total_sum']) +        \\\n",
    "    int(row['un_tenured_Hispanic_or_Latino_total_sum']) +               \\\n",
    "    int(row['un_tenured_Native_Hawaiian_or_Other_Pacific_Islander_total_sum']) + \\\n",
    "    int(row['un_tenured_Two_or_more_races_total_sum'])\n",
    "    \n",
    "    ## add row estimating the number of new junior faculty hired in the previous year\n",
    "    ## and added to the rolls this year, rounded to the closest integer\n",
    "    ## on the assumption that tenure takes seven years on average \n",
    "    \n",
    "    row['new_un_tenured_black_latino_american_indian_alaska_native_hawaiian_pacific_multiracial_sum'] =  \\\n",
    "       round(row['un_tenured_black_latino_american_indian_alaska_native_hawaiian_pacific_multiracial_sum']/years_to_tenure)"
   ]
  },
  {
   "cell_type": "markdown",
   "metadata": {},
   "source": [
    "#### Generate Simulated Year Totals for Earned Doctorates\n",
    "Generate simulated year totals and cumulative totals.\n",
    "\n",
    "Generated these simulated year totals and cumulative totals starting four year before the NCES records start, on the view that people are hired into faculty jobs within **five years** of completing their PhD (especially after a postdoc)."
   ]
  },
  {
   "cell_type": "code",
   "execution_count": 302,
   "metadata": {},
   "outputs": [],
   "source": [
    "\n",
    "## create a dict of year rows, with cumulative counts\n",
    "def year_row():\n",
    "    return {\n",
    "        \"year\":None,\n",
    "        \"year_total\": 0,\n",
    "        \"prev_year_total\": None,\n",
    "        \"cur_year_total\": None\n",
    "    }\n",
    "\n",
    "field_count = len(set([x['field'] for x in all_records]))-1\n",
    "field_graduates = defaultdict(year_row)\n",
    "\n",
    "# observed totals\n",
    "for year_row in sorted([x for x in all_records \n",
    "                        if x['field'] ==\"All fields\" and \\\n",
    "                           x['group'] in ['Hispanic or Latino', 'American Indian or Alaska Native',\n",
    "                                          'Black or African American', 'More than one race'] and\n",
    "                           x['year']>=nces_min_year - years_after_phd\n",
    "                       ], \n",
    "                       key = lambda x: x['year']):    \n",
    "    if(year_row['count']!=\"na\"):\n",
    "        field_graduates[year_row['year']]['year'] = year_row['year']\n",
    "        field_graduates[year_row['year']]['year_total'] += int(year_row['count'])"
   ]
  },
  {
   "cell_type": "code",
   "execution_count": 303,
   "metadata": {},
   "outputs": [],
   "source": [
    "## now generate cumulative totals per year"
   ]
  },
  {
   "cell_type": "code",
   "execution_count": 304,
   "metadata": {},
   "outputs": [],
   "source": [
    "min_year = min([x['year'] for x in field_graduates.values()])\n",
    "max_year = max([x['year'] for x in field_graduates.values()])\n",
    "\n",
    "prev_year_total = None\n",
    "for year in range(min_year, max_year + 1):\n",
    "    field_graduates[year]['prev_year_total'] = prev_year_total\n",
    "    \n",
    "    if(prev_year_total is None):\n",
    "        prev_year_total = 0\n",
    "    \n",
    "    field_graduates[year]['cur_year_total']  = prev_year_total + field_graduates[year]['year_total']\n",
    "    prev_year_total += field_graduates[year]['year_total']"
   ]
  },
  {
   "cell_type": "code",
   "execution_count": 305,
   "metadata": {},
   "outputs": [],
   "source": [
    "#field_graduates"
   ]
  },
  {
   "cell_type": "markdown",
   "metadata": {},
   "source": [
    "#### Merge per-year simulations into NCES data\n",
    "* add `total_hired_prev_year`, the estimated total number of URM faculty hired in the previous year. By being based on the totals across higher education, it  is not sensitive to between-institution factors.\n",
    "* add `pct_hired_prev_year_pipeline`, which is the estimated percent of URM faculty hired in the previous year, as a proportion of simulated lower bound of faculty who finished their PhDs just that year. The purpose of this is to reproduce the commonly-held pipeline stereotype.\n",
    "* add `cumulative_hires_prev_year`, the cumuliative total of URM faculty who were hired up to the previous year, starting with the job market the year before the NCES data. \n",
    "* add `cumulative_unhired_prev_year`, the simulated minimum total number of URM faculty who weren't hired in the previous year, starting with the job market year one year before the current NCES data, assuming all fields produce and hire as few URM faculty as math/cs."
   ]
  },
  {
   "cell_type": "code",
   "execution_count": 306,
   "metadata": {},
   "outputs": [],
   "source": [
    "cumulative_hired_prev_year = 0\n",
    "\n",
    "for year_row in sorted(nces_rows, key=lambda x: int(x['year'])):\n",
    "    year = int(year_row['year'])\n",
    "    \n",
    "    ## job market year\n",
    "    market_year = year - 1\n",
    "    year_row['market_year'] = market_year\n",
    "\n",
    "    ## PhD URM graduates in the previous year\n",
    "    prev_year_field_graduates = field_graduates[market_year]\n",
    "    year_row['prev_year_field_graduates'] = prev_year_field_graduates['cur_year_total']\n",
    "    \n",
    "    total_hired_prev_year = year_row['new_un_tenured_black_latino_american_indian_alaska_native_hawaiian_pacific_multiracial_sum']\n",
    "    \n",
    "    cumulative_hired_prev_year += total_hired_prev_year\n",
    "    year_row['cumulative_hired_prev_year'] = cumulative_hired_prev_year\n",
    "    \n",
    "    cumulative_unhired_prev_year = prev_year_field_graduates['cur_year_total'] - cumulative_hired_prev_year\n",
    "    year_row['cumulative_unhired_prev_year'] = cumulative_unhired_prev_year\n",
    "\n",
    "    \n",
    "#     print(\"\\n\")\n",
    "#     print(year)\n",
    "#     print(\"Among Total PhDs:\")\n",
    "#     print(\"  {0} hired prev year\".format(total_hired_prev_year))\n",
    "#     print(\"  {0} new available last year \".format(prev_year_field_graduates['year_total']))\n",
    "#     print(\"  {0} cumulative available since {1}\".format(prev_year_field_graduates['cur_year_total'], nces_min_year - years_after_phd))\n",
    "#     print(\"  {0} cumulative hires since {1}\".format(cumulative_hires_prev_year, nces_min_year - years_after_phd))\n",
    "#     print(\"  {0} cumulative non-hires since {1}\".format(cumulative_unhired_prev_year, nces_min_year - years_after_phd))"
   ]
  },
  {
   "cell_type": "code",
   "execution_count": 307,
   "metadata": {},
   "outputs": [
    {
     "data": {
      "text/plain": [
       "Text(0.5, 1.0, 'Number of available URM PhDs not employed in TT positions in the US by year')"
      ]
     },
     "execution_count": 307,
     "metadata": {},
     "output_type": "execute_result"
    },
    {
     "data": {
      "image/png": "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\n",
      "text/plain": [
       "<Figure size 432x288 with 1 Axes>"
      ]
     },
     "metadata": {
      "needs_background": "light"
     },
     "output_type": "display_data"
    }
   ],
   "source": [
    "nces_rows = sorted(nces_rows, key=lambda x: x['year'])\n",
    "plt.scatter([x['year'] for x in nces_rows], \n",
    "         [x['cumulative_unhired_prev_year'] for x in nces_rows])\n",
    "plt.plot([x['year'] for x in nces_rows], \n",
    "         [x['cumulative_unhired_prev_year'] for x in nces_rows])\n",
    "plt.title(\"Number of available URM PhDs not employed in TT positions in the US by year\")"
   ]
  },
  {
   "cell_type": "markdown",
   "metadata": {},
   "source": [
    "## Write to File"
   ]
  },
  {
   "cell_type": "code",
   "execution_count": 308,
   "metadata": {},
   "outputs": [],
   "source": [
    "pd.DataFrame(nces_rows).to_csv(data_path + nces_path + timestamp_str + \"_nces_unhired_simulation\" + \".csv\", index=False)"
   ]
  },
  {
   "cell_type": "code",
   "execution_count": null,
   "metadata": {},
   "outputs": [],
   "source": []
  }
 ],
 "metadata": {
  "kernelspec": {
   "display_name": "Python 3 (ipykernel)",
   "language": "python",
   "name": "python3"
  },
  "language_info": {
   "codemirror_mode": {
    "name": "ipython",
    "version": 3
   },
   "file_extension": ".py",
   "mimetype": "text/x-python",
   "name": "python",
   "nbconvert_exporter": "python",
   "pygments_lexer": "ipython3",
<<<<<<< HEAD
   "version": "3.9.13"
=======
   "version": "3.10.8"
>>>>>>> d35ab46 (updated for more recent ipeds)
  }
 },
 "nbformat": 4,
 "nbformat_minor": 4
}
